{
 "cells": [
  {
   "cell_type": "code",
   "execution_count": 1,
   "id": "1645ada3",
   "metadata": {
    "scrolled": false
   },
   "outputs": [],
   "source": [
    "import json\n",
    "import io\n",
    "import os\n",
    "import uuid\n",
    "# import numpy as np\n",
    "from flask import Flask, render_template\n",
    "from selenium import webdriver\n",
    "# from __future__ import print_function\n",
    "from flask import Flask, render_template, make_response\n",
    "from flask import redirect, request, jsonify, url_for\n",
    "# from matplotlib.backends.backend_agg import FigureCanvasAgg as FigureCanvas\n",
    "# from matplotlib.figure import Figure\n",
    "\n",
    "app = Flask(__name__)\n",
    "# app.secret_key = 's3cr3t'\n",
    "# app.debug = True\n",
    "# app._static_folder = os.path.abspath(\"templates/static/\")\n",
    "\n",
    "\n",
    "chrome_driver_path = \"/Users/arashnaseri/Development/chromedriver\"\n",
    "\n",
    "driver = webdriver.Chrome(executable_path=chrome_driver_path)\n",
    "URL = \"http://orteil.dashnet.org/experiments/cookie/\"\n",
    "driver.get(\"https://scholar.google.ca/citations?user=vylaZIkAAAAJ&hl=en\")\n",
    "driver.find_element_by_id(\"gsc_a_ha\").click()"
   ]
  },
  {
   "cell_type": "code",
   "execution_count": 2,
   "id": "1548b3ce",
   "metadata": {},
   "outputs": [],
   "source": [
    "driver.find_elements_by_css_selector(\"tr td a .gsc_a_at\")\n",
    "titles = driver.find_elements_by_css_selector(\".gsc_a_at\")\n",
    "titles = [title.text for title in titles]\n",
    "publications = driver.find_elements_by_css_selector(\"div.gs_gray\")\n",
    "\n",
    "authors = [publications[i].text.split(',')\n",
    "           for i in range(0, len(publications), 2)]\n",
    "# authors = [authors[i]  for i in range(0,len(authors))]\n",
    "journals = [publications[i+1].text for i in range(0, len(publications)-1, 2)]\n",
    "years = driver.find_elements_by_css_selector(\"span.gs_ibl\")\n",
    "years = [int(years[i].text) for i in range(0, len(years))]\n",
    "citations = driver.find_elements_by_css_selector(\".gsc_a_ac\")\n",
    "\n",
    "citations = [int(citations[i].text) if not len(citations[i].text) == 0\n",
    "             else 0\n",
    "             for i in range(0, len(citations))]\n",
    "dictionary = ({\"title\": titles,\n",
    "               \"authors\": authors,\n",
    "               \"journal\": journals,\n",
    "               \"year\": years,\n",
    "               \"citation\": citations} for i in range(0, len(citations))]\n",
    "\n"
   ]
  },
  {
   "cell_type": "code",
   "execution_count": null,
   "id": "72c1e3c9",
   "metadata": {},
   "outputs": [],
   "source": []
  }
 ],
 "metadata": {
  "kernelspec": {
   "display_name": "py37",
   "language": "python",
   "name": "py37"
  },
  "language_info": {
   "codemirror_mode": {
    "name": "ipython",
    "version": 3
   },
   "file_extension": ".py",
   "mimetype": "text/x-python",
   "name": "python",
   "nbconvert_exporter": "python",
   "pygments_lexer": "ipython3",
   "version": "3.7.13"
  }
 },
 "nbformat": 4,
 "nbformat_minor": 5
}
